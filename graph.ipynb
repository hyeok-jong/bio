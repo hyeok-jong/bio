{
 "cells": [
  {
   "cell_type": "code",
   "execution_count": 1,
   "metadata": {},
   "outputs": [],
   "source": [
    "import numpy as np\n",
    "import matplotlib.pyplot as plt\n",
    "from tqdm import tqdm\n",
    "import seaborn as sns\n"
   ]
  },
  {
   "cell_type": "code",
   "execution_count": null,
   "metadata": {},
   "outputs": [],
   "source": [
    "def undirected(n, p = .5):\n",
    "    matrix = np.random.rand(n, n) < p\n",
    "    symmetric = np.triu(matrix, k = 1).T + np.triu(matrix, k = 1)\n",
    "    return symmetric\n",
    "\n",
    "def directed(n, p = .5):\n",
    "    matrix = np.random.rand(n, n) < p\n",
    "    np.fill_diagonal(matrix, 0)\n",
    "    return matrix"
   ]
  },
  {
   "cell_type": "code",
   "execution_count": null,
   "metadata": {},
   "outputs": [],
   "source": [
    "# check degree distribution for undirected and it's mean value\n",
    "means = list()\n",
    "for _ in tqdm(range(50)):\n",
    "    dist = undirected(5000, p = .2).sum(axis = 0)\n",
    "    means.append(dist.mean())\n",
    "print(np.mean(means))\n",
    "\n",
    "means = list()\n",
    "for _ in tqdm(range(50)):\n",
    "    dist = undirected(5000, p = .5).sum(axis = 0)\n",
    "    means.append(dist.mean())\n",
    "print(np.mean(means))\n",
    "\n",
    "means = list()\n",
    "for _ in tqdm(range(50)):\n",
    "    dist = undirected(5000, p = .8).sum(axis = 0)\n",
    "    means.append(dist.mean())\n",
    "print(np.mean(means))"
   ]
  },
  {
   "cell_type": "code",
   "execution_count": null,
   "metadata": {},
   "outputs": [],
   "source": [
    "plt.figure(figsize = (20,20))\n",
    "for idx, i in tqdm(enumerate(range(1, 10, 1)), total = 9):\n",
    "    plt.subplot(3, 3, idx + 1)\n",
    "    n = 100\n",
    "    p = i/10\n",
    "    lam = n*p\n",
    "    _ = sns.kdeplot(undirected(n, p).sum(axis = 1), color = 'blue', linewidth = 3, label = 'degree')\n",
    "    _ = sns.kdeplot(np.random.binomial(n - 1, p, size = 5000), color = 'red', linewidth = 3, label = f'B({n - 1}, {p})')\n",
    "    _ = sns.kdeplot(np.random.poisson(lam, n), color = 'green', linewidth = 3, label = f'P({int(lam)})')\n",
    "    _ = plt.legend()"
   ]
  },
  {
   "cell_type": "code",
   "execution_count": null,
   "metadata": {},
   "outputs": [],
   "source": [
    "plt.figure(figsize = (20,20))\n",
    "for idx, i in tqdm(enumerate(range(1, 10, 1)), total = 9):\n",
    "    plt.subplot(3, 3, idx + 1)\n",
    "    n = 10000\n",
    "    p = i/10\n",
    "    lam = n*p\n",
    "    _ = sns.kdeplot(undirected(n, p).sum(axis = 1), color = 'blue', linewidth = 3, label = 'degree')\n",
    "    _ = sns.kdeplot(np.random.binomial(n - 1, p, size = 5000), color = 'red', linewidth = 3, label = f'B({n - 1}, {p})')\n",
    "    _ = sns.kdeplot(np.random.poisson(lam, n), color = 'green', linewidth = 3, label = f'P({int(lam)})')\n",
    "    _ = plt.legend()"
   ]
  },
  {
   "cell_type": "code",
   "execution_count": null,
   "metadata": {},
   "outputs": [],
   "source": []
  },
  {
   "cell_type": "code",
   "execution_count": null,
   "metadata": {},
   "outputs": [],
   "source": [
    "plt.figure(figsize = (20,20))\n",
    "for idx, i in tqdm(enumerate(range(1, 10, 1)), total = 9):\n",
    "    plt.subplot(3, 3, idx + 1)\n",
    "    n = 100\n",
    "    p = i/10\n",
    "    lam = n*p\n",
    "    mat = directed(n, p)\n",
    "    _ = sns.kdeplot(mat.sum(axis = 0), color = 'navy', linewidth = 3, label = 'degree in')\n",
    "    _ = sns.kdeplot(mat.sum(axis = 1), color = 'royalblue', linewidth = 3, label = 'degree out')\n",
    "    _ = sns.kdeplot(np.random.binomial(n - 1, p, size = 5000), color = 'red', linewidth = 3, label = f'B({n - 1}, {p})')\n",
    "    _ = sns.kdeplot(np.random.poisson(lam, n), color = 'green', linewidth = 3, label = f'P({int(lam)})')\n",
    "    _ = plt.legend()"
   ]
  },
  {
   "cell_type": "code",
   "execution_count": null,
   "metadata": {},
   "outputs": [],
   "source": [
    "plt.figure(figsize = (20,20))\n",
    "for idx, i in tqdm(enumerate(range(1, 10, 1)), total = 9):\n",
    "    plt.subplot(3, 3, idx + 1)\n",
    "    n = 10000\n",
    "    p = i/10\n",
    "    lam = n*p\n",
    "    mat = directed(n, p)\n",
    "    _ = sns.kdeplot(mat.sum(axis = 0), color = 'navy', linewidth = 3, label = 'degree in')\n",
    "    _ = sns.kdeplot(mat.sum(axis = 1), color = 'royalblue', linewidth = 3, label = 'degree out')\n",
    "    _ = sns.kdeplot(np.random.binomial(n - 1, p, size = 5000), color = 'red', linewidth = 3, label = f'B({n - 1}, {p})')\n",
    "    _ = sns.kdeplot(np.random.poisson(lam, n), color = 'green', linewidth = 3, label = f'P({int(lam)})')\n",
    "    _ = plt.legend()"
   ]
  },
  {
   "cell_type": "code",
   "execution_count": null,
   "metadata": {},
   "outputs": [],
   "source": []
  }
 ],
 "metadata": {
  "kernelspec": {
   "display_name": "sudo",
   "language": "python",
   "name": "python3"
  },
  "language_info": {
   "codemirror_mode": {
    "name": "ipython",
    "version": 3
   },
   "file_extension": ".py",
   "mimetype": "text/x-python",
   "name": "python",
   "nbconvert_exporter": "python",
   "pygments_lexer": "ipython3",
   "version": "3.9.12"
  },
  "orig_nbformat": 4,
  "vscode": {
   "interpreter": {
    "hash": "42903194e8d45721970d21237e61d66bd4d1a270aa90f4d03972b05d6c65712c"
   }
  }
 },
 "nbformat": 4,
 "nbformat_minor": 2
}
